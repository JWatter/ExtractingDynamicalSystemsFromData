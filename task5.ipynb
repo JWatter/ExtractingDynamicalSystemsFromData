{
 "cells": [
  {
   "cell_type": "code",
   "execution_count": 94,
   "metadata": {},
   "outputs": [],
   "source": [
    "import numpy as np \n",
    "import pandas as pd \n",
    "import matplotlib.pyplot as plt\n",
    "from utils import *\n",
    "from mpl_toolkits.mplot3d import Axes3D\n",
    "\n",
    "windows = 350"
   ]
  },
  {
   "cell_type": "code",
   "execution_count": 19,
   "metadata": {},
   "outputs": [],
   "source": [
    "utilization_path = \"./data/MI_timesteps.txt\"\n",
    "utilization_data = pd.read_csv(utilization_path, header='infer', delimiter=\" \", skiprows=range(1, 1001))"
   ]
  },
  {
   "cell_type": "code",
   "execution_count": 79,
   "metadata": {},
   "outputs": [
    {
     "data": {
      "text/plain": [
       "array(['timeStep', 'areaDensityCounting-PID5', 'areaDensityCounting-PID6',\n",
       "       'areaDensityCounting-PID7', 'areaDensityCounting-PID8',\n",
       "       'areaDensityCounting-PID9', 'areaDensityCounting-PID10',\n",
       "       'areaDensityCounting-PID11', 'areaDensityCounting-PID12',\n",
       "       'areaDensityCounting-PID13'], dtype=object)"
      ]
     },
     "execution_count": 79,
     "metadata": {},
     "output_type": "execute_result"
    }
   ],
   "source": [
    "utilization_data.columns.values"
   ]
  },
  {
   "cell_type": "code",
   "execution_count": 21,
   "metadata": {},
   "outputs": [
    {
     "data": {
      "text/html": [
       "<div>\n",
       "<style scoped>\n",
       "    .dataframe tbody tr th:only-of-type {\n",
       "        vertical-align: middle;\n",
       "    }\n",
       "\n",
       "    .dataframe tbody tr th {\n",
       "        vertical-align: top;\n",
       "    }\n",
       "\n",
       "    .dataframe thead th {\n",
       "        text-align: right;\n",
       "    }\n",
       "</style>\n",
       "<table border=\"1\" class=\"dataframe\">\n",
       "  <thead>\n",
       "    <tr style=\"text-align: right;\">\n",
       "      <th></th>\n",
       "      <th>timeStep</th>\n",
       "      <th>areaDensityCounting-PID5</th>\n",
       "      <th>areaDensityCounting-PID6</th>\n",
       "      <th>areaDensityCounting-PID7</th>\n",
       "      <th>areaDensityCounting-PID8</th>\n",
       "      <th>areaDensityCounting-PID9</th>\n",
       "      <th>areaDensityCounting-PID10</th>\n",
       "      <th>areaDensityCounting-PID11</th>\n",
       "      <th>areaDensityCounting-PID12</th>\n",
       "      <th>areaDensityCounting-PID13</th>\n",
       "    </tr>\n",
       "  </thead>\n",
       "  <tbody>\n",
       "    <tr>\n",
       "      <th>0</th>\n",
       "      <td>1001</td>\n",
       "      <td>0</td>\n",
       "      <td>2</td>\n",
       "      <td>97</td>\n",
       "      <td>7</td>\n",
       "      <td>0</td>\n",
       "      <td>0</td>\n",
       "      <td>5</td>\n",
       "      <td>1</td>\n",
       "      <td>43</td>\n",
       "    </tr>\n",
       "    <tr>\n",
       "      <th>1</th>\n",
       "      <td>1002</td>\n",
       "      <td>0</td>\n",
       "      <td>2</td>\n",
       "      <td>96</td>\n",
       "      <td>7</td>\n",
       "      <td>0</td>\n",
       "      <td>0</td>\n",
       "      <td>5</td>\n",
       "      <td>1</td>\n",
       "      <td>45</td>\n",
       "    </tr>\n",
       "    <tr>\n",
       "      <th>2</th>\n",
       "      <td>1003</td>\n",
       "      <td>0</td>\n",
       "      <td>2</td>\n",
       "      <td>95</td>\n",
       "      <td>6</td>\n",
       "      <td>0</td>\n",
       "      <td>0</td>\n",
       "      <td>5</td>\n",
       "      <td>0</td>\n",
       "      <td>46</td>\n",
       "    </tr>\n",
       "    <tr>\n",
       "      <th>3</th>\n",
       "      <td>1004</td>\n",
       "      <td>0</td>\n",
       "      <td>2</td>\n",
       "      <td>94</td>\n",
       "      <td>6</td>\n",
       "      <td>0</td>\n",
       "      <td>0</td>\n",
       "      <td>4</td>\n",
       "      <td>1</td>\n",
       "      <td>46</td>\n",
       "    </tr>\n",
       "    <tr>\n",
       "      <th>4</th>\n",
       "      <td>1005</td>\n",
       "      <td>0</td>\n",
       "      <td>2</td>\n",
       "      <td>92</td>\n",
       "      <td>6</td>\n",
       "      <td>0</td>\n",
       "      <td>0</td>\n",
       "      <td>5</td>\n",
       "      <td>0</td>\n",
       "      <td>46</td>\n",
       "    </tr>\n",
       "    <tr>\n",
       "      <th>...</th>\n",
       "      <td>...</td>\n",
       "      <td>...</td>\n",
       "      <td>...</td>\n",
       "      <td>...</td>\n",
       "      <td>...</td>\n",
       "      <td>...</td>\n",
       "      <td>...</td>\n",
       "      <td>...</td>\n",
       "      <td>...</td>\n",
       "      <td>...</td>\n",
       "    </tr>\n",
       "    <tr>\n",
       "      <th>13996</th>\n",
       "      <td>14997</td>\n",
       "      <td>0</td>\n",
       "      <td>10</td>\n",
       "      <td>95</td>\n",
       "      <td>4</td>\n",
       "      <td>0</td>\n",
       "      <td>0</td>\n",
       "      <td>2</td>\n",
       "      <td>1</td>\n",
       "      <td>39</td>\n",
       "    </tr>\n",
       "    <tr>\n",
       "      <th>13997</th>\n",
       "      <td>14998</td>\n",
       "      <td>0</td>\n",
       "      <td>10</td>\n",
       "      <td>94</td>\n",
       "      <td>3</td>\n",
       "      <td>0</td>\n",
       "      <td>0</td>\n",
       "      <td>3</td>\n",
       "      <td>1</td>\n",
       "      <td>39</td>\n",
       "    </tr>\n",
       "    <tr>\n",
       "      <th>13998</th>\n",
       "      <td>14999</td>\n",
       "      <td>0</td>\n",
       "      <td>10</td>\n",
       "      <td>93</td>\n",
       "      <td>3</td>\n",
       "      <td>0</td>\n",
       "      <td>1</td>\n",
       "      <td>2</td>\n",
       "      <td>1</td>\n",
       "      <td>40</td>\n",
       "    </tr>\n",
       "    <tr>\n",
       "      <th>13999</th>\n",
       "      <td>15000</td>\n",
       "      <td>0</td>\n",
       "      <td>10</td>\n",
       "      <td>93</td>\n",
       "      <td>3</td>\n",
       "      <td>0</td>\n",
       "      <td>1</td>\n",
       "      <td>3</td>\n",
       "      <td>1</td>\n",
       "      <td>41</td>\n",
       "    </tr>\n",
       "    <tr>\n",
       "      <th>14000</th>\n",
       "      <td>15001</td>\n",
       "      <td>0</td>\n",
       "      <td>11</td>\n",
       "      <td>91</td>\n",
       "      <td>2</td>\n",
       "      <td>0</td>\n",
       "      <td>0</td>\n",
       "      <td>1</td>\n",
       "      <td>0</td>\n",
       "      <td>42</td>\n",
       "    </tr>\n",
       "  </tbody>\n",
       "</table>\n",
       "<p>14001 rows × 10 columns</p>\n",
       "</div>"
      ],
      "text/plain": [
       "       timeStep  areaDensityCounting-PID5  areaDensityCounting-PID6  \\\n",
       "0          1001                         0                         2   \n",
       "1          1002                         0                         2   \n",
       "2          1003                         0                         2   \n",
       "3          1004                         0                         2   \n",
       "4          1005                         0                         2   \n",
       "...         ...                       ...                       ...   \n",
       "13996     14997                         0                        10   \n",
       "13997     14998                         0                        10   \n",
       "13998     14999                         0                        10   \n",
       "13999     15000                         0                        10   \n",
       "14000     15001                         0                        11   \n",
       "\n",
       "       areaDensityCounting-PID7  areaDensityCounting-PID8  \\\n",
       "0                            97                         7   \n",
       "1                            96                         7   \n",
       "2                            95                         6   \n",
       "3                            94                         6   \n",
       "4                            92                         6   \n",
       "...                         ...                       ...   \n",
       "13996                        95                         4   \n",
       "13997                        94                         3   \n",
       "13998                        93                         3   \n",
       "13999                        93                         3   \n",
       "14000                        91                         2   \n",
       "\n",
       "       areaDensityCounting-PID9  areaDensityCounting-PID10  \\\n",
       "0                             0                          0   \n",
       "1                             0                          0   \n",
       "2                             0                          0   \n",
       "3                             0                          0   \n",
       "4                             0                          0   \n",
       "...                         ...                        ...   \n",
       "13996                         0                          0   \n",
       "13997                         0                          0   \n",
       "13998                         0                          1   \n",
       "13999                         0                          1   \n",
       "14000                         0                          0   \n",
       "\n",
       "       areaDensityCounting-PID11  areaDensityCounting-PID12  \\\n",
       "0                              5                          1   \n",
       "1                              5                          1   \n",
       "2                              5                          0   \n",
       "3                              4                          1   \n",
       "4                              5                          0   \n",
       "...                          ...                        ...   \n",
       "13996                          2                          1   \n",
       "13997                          3                          1   \n",
       "13998                          2                          1   \n",
       "13999                          3                          1   \n",
       "14000                          1                          0   \n",
       "\n",
       "       areaDensityCounting-PID13  \n",
       "0                             43  \n",
       "1                             45  \n",
       "2                             46  \n",
       "3                             46  \n",
       "4                             46  \n",
       "...                          ...  \n",
       "13996                         39  \n",
       "13997                         39  \n",
       "13998                         40  \n",
       "13999                         41  \n",
       "14000                         42  \n",
       "\n",
       "[14001 rows x 10 columns]"
      ]
     },
     "execution_count": 21,
     "metadata": {},
     "output_type": "execute_result"
    }
   ],
   "source": [
    "utilization_data"
   ]
  },
  {
   "cell_type": "markdown",
   "metadata": {},
   "source": [
    "## First Part"
   ]
  },
  {
   "cell_type": "code",
   "execution_count": 80,
   "metadata": {},
   "outputs": [],
   "source": [
    "PID5 = np.array(utilization_data['areaDensityCounting-PID5'])\n",
    "PID6 = np.array(utilization_data['areaDensityCounting-PID6'])\n",
    "PID7 = np.array(utilization_data['areaDensityCounting-PID7'])"
   ]
  },
  {
   "cell_type": "code",
   "execution_count": 77,
   "metadata": {},
   "outputs": [
    {
     "data": {
      "text/plain": [
       "0"
      ]
     },
     "execution_count": 77,
     "metadata": {},
     "output_type": "execute_result"
    }
   ],
   "source": [
    "PID5[14000]"
   ]
  },
  {
   "cell_type": "code",
   "execution_count": 78,
   "metadata": {},
   "outputs": [
    {
     "data": {
      "text/plain": [
       "<function matplotlib.pyplot.show(*args, **kw)>"
      ]
     },
     "execution_count": 78,
     "metadata": {},
     "output_type": "execute_result"
    },
    {
     "data": {
      "image/png": "[encoded data removed]",
      "text/plain": [
       "<Figure size 432x288 with 1 Axes>"
      ]
     },
     "metadata": {
      "needs_background": "light"
     },
     "output_type": "display_data"
    }
   ],
   "source": [
    "plt.plot(utilization_data['timeStep'], PID5)\n",
    "plt.xlabel('t')\n",
    "plt.ylabel('PID5')\n",
    "plt.show"
   ]
  },
  {
   "cell_type": "code",
   "execution_count": 81,
   "metadata": {},
   "outputs": [],
   "source": [
    "def rolling_window(a, window):\n",
    "    shape = a.shape[:-1] + (a.shape[-1] - window, window + 1)\n",
    "    strides = a.strides + (a.strides[-1],)\n",
    "    return np.lib.stride_tricks.as_strided(a, shape=shape, strides=strides)\n",
    "\n",
    "PID5_slided = rolling_window(PID5, windows)\n",
    "PID6_slided = rolling_window(PID6, windows)\n",
    "PID7_slided = rolling_window(PID7, windows)"
   ]
  },
  {
   "cell_type": "code",
   "execution_count": 91,
   "metadata": {},
   "outputs": [],
   "source": [
    "data =  np.concatenate((PID5_slided, PID6_slided, PID7_slided),axis=1)\n",
    "data_norm = (data - data.mean(axis=0)) / data.std(axis=0)"
   ]
  },
  {
   "cell_type": "code",
   "execution_count": 92,
   "metadata": {},
   "outputs": [
    {
     "data": {
      "text/plain": [
       "(13651, 1053)"
      ]
     },
     "execution_count": 92,
     "metadata": {},
     "output_type": "execute_result"
    }
   ],
   "source": [
    "data_norm.shape"
   ]
  },
  {
   "cell_type": "code",
   "execution_count": 93,
   "metadata": {},
   "outputs": [],
   "source": [
    "from sklearn.decomposition import PCA\n",
    "pca = PCA(n_components=3)\n",
    "projected = pca.fit_transform(data_norm)\n",
    "\n",
    "explained_variance_sk = pca.explained_variance_ratio_\n",
    "expl_var_cumsum_sk = np.cumsum(explained_variance_sk)"
   ]
  },
  {
   "cell_type": "code",
   "execution_count": 97,
   "metadata": {},
   "outputs": [
    {
     "data": {
      "image/png": "[encoded data removed]",
      "text/plain": [
       "<Figure size 432x288 with 1 Axes>"
      ]
     },
     "metadata": {
      "needs_background": "light"
     },
     "output_type": "display_data"
    }
   ],
   "source": [
    "fig = plt.figure()\n",
    "ax=fig.add_subplot(111,projection=\"3d\")\n",
    "ax.scatter(projected[:, 0], projected[:, 1], projected[:, 2])\n",
    "ax.set_xlabel('PC1')\n",
    "ax.set_ylabel('PC2')\n",
    "ax.set_zlabel('PC3')\n",
    "ax.set_title('Plot of first 3 axis')\n",
    "fig.tight_layout()"
   ]
  },
  {
   "cell_type": "markdown",
   "metadata": {},
   "source": [
    "## Part 2"
   ]
  },
  {
   "cell_type": "code",
   "execution_count": null,
   "metadata": {},
   "outputs": [],
   "source": []
  }
 ],
 "metadata": {
  "kernelspec": {
   "display_name": "pytorch_test36_gpu",
   "language": "python",
   "name": "python3"
  },
  "language_info": {
   "codemirror_mode": {
    "name": "ipython",
    "version": 3
   },
   "file_extension": ".py",
   "mimetype": "text/x-python",
   "name": "python",
   "nbconvert_exporter": "python",
   "pygments_lexer": "ipython3",
   "version": "3.6.10"
  }
 },
 "nbformat": 4,
 "nbformat_minor": 4
}
